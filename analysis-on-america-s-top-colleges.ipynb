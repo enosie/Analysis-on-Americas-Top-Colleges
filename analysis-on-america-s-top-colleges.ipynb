{
 "cells": [
  {
   "cell_type": "markdown",
   "id": "underlying-colony",
   "metadata": {
    "papermill": {
     "duration": 0.020061,
     "end_time": "2021-04-04T19:08:17.848507",
     "exception": false,
     "start_time": "2021-04-04T19:08:17.828446",
     "status": "completed"
    },
    "tags": []
   },
   "source": [
    "**Import libraries**"
   ]
  },
  {
   "cell_type": "code",
   "execution_count": 1,
   "id": "logical-shannon",
   "metadata": {
    "_cell_guid": "b1076dfc-b9ad-4769-8c92-a6c4dae69d19",
    "_uuid": "8f2839f25d086af736a60e9eeb907d3b93b6e0e5",
    "execution": {
     "iopub.execute_input": "2021-04-04T19:08:17.890494Z",
     "iopub.status.busy": "2021-04-04T19:08:17.889355Z",
     "iopub.status.idle": "2021-04-04T19:08:18.834531Z",
     "shell.execute_reply": "2021-04-04T19:08:18.835144Z"
    },
    "papermill": {
     "duration": 0.967697,
     "end_time": "2021-04-04T19:08:18.835468",
     "exception": false,
     "start_time": "2021-04-04T19:08:17.867771",
     "status": "completed"
    },
    "tags": []
   },
   "outputs": [],
   "source": [
    "import numpy as np\n",
    "import pandas as pd\n",
    "import seaborn as sns"
   ]
  },
  {
   "cell_type": "markdown",
   "id": "prerequisite-transcription",
   "metadata": {
    "papermill": {
     "duration": 0.01845,
     "end_time": "2021-04-04T19:08:18.872973",
     "exception": false,
     "start_time": "2021-04-04T19:08:18.854523",
     "status": "completed"
    },
    "tags": []
   },
   "source": [
    "**Loading dataset**"
   ]
  },
  {
   "cell_type": "code",
   "execution_count": 2,
   "id": "assured-shade",
   "metadata": {
    "execution": {
     "iopub.execute_input": "2021-04-04T19:08:18.913974Z",
     "iopub.status.busy": "2021-04-04T19:08:18.913354Z",
     "iopub.status.idle": "2021-04-04T19:08:18.941260Z",
     "shell.execute_reply": "2021-04-04T19:08:18.941773Z"
    },
    "papermill": {
     "duration": 0.050156,
     "end_time": "2021-04-04T19:08:18.941983",
     "exception": false,
     "start_time": "2021-04-04T19:08:18.891827",
     "status": "completed"
    },
    "tags": []
   },
   "outputs": [],
   "source": [
    "college = pd.read_csv(\"../input/forbes-americas-top-colleges-2019/ForbesAmericasTopColleges2019.csv\")"
   ]
  },
  {
   "cell_type": "markdown",
   "id": "colored-provider",
   "metadata": {
    "papermill": {
     "duration": 0.018982,
     "end_time": "2021-04-04T19:08:18.981367",
     "exception": false,
     "start_time": "2021-04-04T19:08:18.962385",
     "status": "completed"
    },
    "tags": []
   },
   "source": [
    "**1. Understanding the data**"
   ]
  },
  {
   "cell_type": "code",
   "execution_count": 3,
   "id": "heard-monte",
   "metadata": {
    "execution": {
     "iopub.execute_input": "2021-04-04T19:08:19.022799Z",
     "iopub.status.busy": "2021-04-04T19:08:19.022160Z",
     "iopub.status.idle": "2021-04-04T19:08:19.029147Z",
     "shell.execute_reply": "2021-04-04T19:08:19.029621Z"
    },
    "papermill": {
     "duration": 0.029513,
     "end_time": "2021-04-04T19:08:19.029823",
     "exception": false,
     "start_time": "2021-04-04T19:08:19.000310",
     "status": "completed"
    },
    "tags": []
   },
   "outputs": [
    {
     "data": {
      "text/plain": [
       "(650, 17)"
      ]
     },
     "execution_count": 3,
     "metadata": {},
     "output_type": "execute_result"
    }
   ],
   "source": [
    "college.shape"
   ]
  },
  {
   "cell_type": "markdown",
   "id": "foster-ready",
   "metadata": {
    "papermill": {
     "duration": 0.019294,
     "end_time": "2021-04-04T19:08:19.069178",
     "exception": false,
     "start_time": "2021-04-04T19:08:19.049884",
     "status": "completed"
    },
    "tags": []
   },
   "source": [
    "There are 650 colleges with 17 different attributes (before cleaning)."
   ]
  },
  {
   "cell_type": "code",
   "execution_count": 4,
   "id": "chronic-locking",
   "metadata": {
    "execution": {
     "iopub.execute_input": "2021-04-04T19:08:19.119836Z",
     "iopub.status.busy": "2021-04-04T19:08:19.119167Z",
     "iopub.status.idle": "2021-04-04T19:08:19.152179Z",
     "shell.execute_reply": "2021-04-04T19:08:19.152813Z"
    },
    "papermill": {
     "duration": 0.064147,
     "end_time": "2021-04-04T19:08:19.152998",
     "exception": false,
     "start_time": "2021-04-04T19:08:19.088851",
     "status": "completed"
    },
    "tags": []
   },
   "outputs": [
    {
     "data": {
      "text/html": [
       "<div>\n",
       "<style scoped>\n",
       "    .dataframe tbody tr th:only-of-type {\n",
       "        vertical-align: middle;\n",
       "    }\n",
       "\n",
       "    .dataframe tbody tr th {\n",
       "        vertical-align: top;\n",
       "    }\n",
       "\n",
       "    .dataframe thead th {\n",
       "        text-align: right;\n",
       "    }\n",
       "</style>\n",
       "<table border=\"1\" class=\"dataframe\">\n",
       "  <thead>\n",
       "    <tr style=\"text-align: right;\">\n",
       "      <th></th>\n",
       "      <th>Rank</th>\n",
       "      <th>Name</th>\n",
       "      <th>City</th>\n",
       "      <th>State</th>\n",
       "      <th>Public/Private</th>\n",
       "      <th>Undergraduate Population</th>\n",
       "      <th>Student Population</th>\n",
       "      <th>Net Price</th>\n",
       "      <th>Average Grant Aid</th>\n",
       "      <th>Total Annual Cost</th>\n",
       "      <th>Alumni Salary</th>\n",
       "      <th>Acceptance Rate</th>\n",
       "      <th>SAT Lower</th>\n",
       "      <th>SAT Upper</th>\n",
       "      <th>ACT Lower</th>\n",
       "      <th>ACT Upper</th>\n",
       "      <th>Website</th>\n",
       "    </tr>\n",
       "  </thead>\n",
       "  <tbody>\n",
       "    <tr>\n",
       "      <th>0</th>\n",
       "      <td>1.0</td>\n",
       "      <td>Harvard University</td>\n",
       "      <td>Cambridge</td>\n",
       "      <td>MA</td>\n",
       "      <td>Private</td>\n",
       "      <td>13844.0</td>\n",
       "      <td>31120.0</td>\n",
       "      <td>14327.0</td>\n",
       "      <td>49870.0</td>\n",
       "      <td>69600.0</td>\n",
       "      <td>146800.0</td>\n",
       "      <td>5.0</td>\n",
       "      <td>1460.0</td>\n",
       "      <td>1590.0</td>\n",
       "      <td>32.0</td>\n",
       "      <td>35.0</td>\n",
       "      <td>www.harvard.edu</td>\n",
       "    </tr>\n",
       "    <tr>\n",
       "      <th>1</th>\n",
       "      <td>2.0</td>\n",
       "      <td>Stanford University</td>\n",
       "      <td>Stanford</td>\n",
       "      <td>CA</td>\n",
       "      <td>Private</td>\n",
       "      <td>8402.0</td>\n",
       "      <td>17534.0</td>\n",
       "      <td>13261.0</td>\n",
       "      <td>50134.0</td>\n",
       "      <td>69109.0</td>\n",
       "      <td>145200.0</td>\n",
       "      <td>5.0</td>\n",
       "      <td>1390.0</td>\n",
       "      <td>1540.0</td>\n",
       "      <td>32.0</td>\n",
       "      <td>35.0</td>\n",
       "      <td>www.stanford.edu</td>\n",
       "    </tr>\n",
       "    <tr>\n",
       "      <th>2</th>\n",
       "      <td>3.0</td>\n",
       "      <td>Yale University</td>\n",
       "      <td>New Haven</td>\n",
       "      <td>CT</td>\n",
       "      <td>Private</td>\n",
       "      <td>6483.0</td>\n",
       "      <td>12974.0</td>\n",
       "      <td>18627.0</td>\n",
       "      <td>50897.0</td>\n",
       "      <td>71290.0</td>\n",
       "      <td>138300.0</td>\n",
       "      <td>7.0</td>\n",
       "      <td>1460.0</td>\n",
       "      <td>1580.0</td>\n",
       "      <td>32.0</td>\n",
       "      <td>35.0</td>\n",
       "      <td>www.yale.edu</td>\n",
       "    </tr>\n",
       "    <tr>\n",
       "      <th>3</th>\n",
       "      <td>4.0</td>\n",
       "      <td>Massachusetts Institute of Technology</td>\n",
       "      <td>Cambridge</td>\n",
       "      <td>MA</td>\n",
       "      <td>Private</td>\n",
       "      <td>4680.0</td>\n",
       "      <td>11466.0</td>\n",
       "      <td>20771.0</td>\n",
       "      <td>43248.0</td>\n",
       "      <td>67430.0</td>\n",
       "      <td>155200.0</td>\n",
       "      <td>7.0</td>\n",
       "      <td>1490.0</td>\n",
       "      <td>1570.0</td>\n",
       "      <td>33.0</td>\n",
       "      <td>35.0</td>\n",
       "      <td>web.mit.edu</td>\n",
       "    </tr>\n",
       "    <tr>\n",
       "      <th>4</th>\n",
       "      <td>5.0</td>\n",
       "      <td>Princeton University</td>\n",
       "      <td>Princeton</td>\n",
       "      <td>NJ</td>\n",
       "      <td>Private</td>\n",
       "      <td>5659.0</td>\n",
       "      <td>8273.0</td>\n",
       "      <td>9327.0</td>\n",
       "      <td>48088.0</td>\n",
       "      <td>66150.0</td>\n",
       "      <td>139400.0</td>\n",
       "      <td>6.0</td>\n",
       "      <td>1430.0</td>\n",
       "      <td>1570.0</td>\n",
       "      <td>31.0</td>\n",
       "      <td>35.0</td>\n",
       "      <td>www.princeton.edu</td>\n",
       "    </tr>\n",
       "  </tbody>\n",
       "</table>\n",
       "</div>"
      ],
      "text/plain": [
       "   Rank                                   Name       City State  \\\n",
       "0   1.0                     Harvard University  Cambridge    MA   \n",
       "1   2.0                    Stanford University   Stanford    CA   \n",
       "2   3.0                        Yale University  New Haven    CT   \n",
       "3   4.0  Massachusetts Institute of Technology  Cambridge    MA   \n",
       "4   5.0                   Princeton University  Princeton    NJ   \n",
       "\n",
       "  Public/Private  Undergraduate Population  Student Population  Net Price  \\\n",
       "0        Private                   13844.0             31120.0    14327.0   \n",
       "1        Private                    8402.0             17534.0    13261.0   \n",
       "2        Private                    6483.0             12974.0    18627.0   \n",
       "3        Private                    4680.0             11466.0    20771.0   \n",
       "4        Private                    5659.0              8273.0     9327.0   \n",
       "\n",
       "   Average Grant Aid  Total Annual Cost  Alumni Salary  Acceptance Rate  \\\n",
       "0            49870.0            69600.0       146800.0              5.0   \n",
       "1            50134.0            69109.0       145200.0              5.0   \n",
       "2            50897.0            71290.0       138300.0              7.0   \n",
       "3            43248.0            67430.0       155200.0              7.0   \n",
       "4            48088.0            66150.0       139400.0              6.0   \n",
       "\n",
       "   SAT Lower  SAT Upper  ACT Lower  ACT Upper            Website  \n",
       "0     1460.0     1590.0       32.0       35.0    www.harvard.edu  \n",
       "1     1390.0     1540.0       32.0       35.0   www.stanford.edu  \n",
       "2     1460.0     1580.0       32.0       35.0       www.yale.edu  \n",
       "3     1490.0     1570.0       33.0       35.0        web.mit.edu  \n",
       "4     1430.0     1570.0       31.0       35.0  www.princeton.edu  "
      ]
     },
     "execution_count": 4,
     "metadata": {},
     "output_type": "execute_result"
    }
   ],
   "source": [
    "college.head()"
   ]
  },
  {
   "cell_type": "code",
   "execution_count": 5,
   "id": "optical-chicken",
   "metadata": {
    "execution": {
     "iopub.execute_input": "2021-04-04T19:08:19.203358Z",
     "iopub.status.busy": "2021-04-04T19:08:19.202391Z",
     "iopub.status.idle": "2021-04-04T19:08:19.242323Z",
     "shell.execute_reply": "2021-04-04T19:08:19.241289Z"
    },
    "papermill": {
     "duration": 0.067464,
     "end_time": "2021-04-04T19:08:19.242524",
     "exception": false,
     "start_time": "2021-04-04T19:08:19.175060",
     "status": "completed"
    },
    "tags": []
   },
   "outputs": [
    {
     "data": {
      "text/html": [
       "<div>\n",
       "<style scoped>\n",
       "    .dataframe tbody tr th:only-of-type {\n",
       "        vertical-align: middle;\n",
       "    }\n",
       "\n",
       "    .dataframe tbody tr th {\n",
       "        vertical-align: top;\n",
       "    }\n",
       "\n",
       "    .dataframe thead th {\n",
       "        text-align: right;\n",
       "    }\n",
       "</style>\n",
       "<table border=\"1\" class=\"dataframe\">\n",
       "  <thead>\n",
       "    <tr style=\"text-align: right;\">\n",
       "      <th></th>\n",
       "      <th>Rank</th>\n",
       "      <th>Name</th>\n",
       "      <th>City</th>\n",
       "      <th>State</th>\n",
       "      <th>Public/Private</th>\n",
       "      <th>Undergraduate Population</th>\n",
       "      <th>Student Population</th>\n",
       "      <th>Net Price</th>\n",
       "      <th>Average Grant Aid</th>\n",
       "      <th>Total Annual Cost</th>\n",
       "      <th>Alumni Salary</th>\n",
       "      <th>Acceptance Rate</th>\n",
       "      <th>SAT Lower</th>\n",
       "      <th>SAT Upper</th>\n",
       "      <th>ACT Lower</th>\n",
       "      <th>ACT Upper</th>\n",
       "      <th>Website</th>\n",
       "    </tr>\n",
       "  </thead>\n",
       "  <tbody>\n",
       "    <tr>\n",
       "      <th>645</th>\n",
       "      <td>646.0</td>\n",
       "      <td>New Mexico State University</td>\n",
       "      <td>Las Cruces</td>\n",
       "      <td>NM</td>\n",
       "      <td>Public</td>\n",
       "      <td>13379.0</td>\n",
       "      <td>14432.0</td>\n",
       "      <td>8625.0</td>\n",
       "      <td>9582.0</td>\n",
       "      <td>34720.0</td>\n",
       "      <td>96700.0</td>\n",
       "      <td>64.0</td>\n",
       "      <td>910.0</td>\n",
       "      <td>1160.0</td>\n",
       "      <td>18.0</td>\n",
       "      <td>23.0</td>\n",
       "      <td>www.nmsu.edu</td>\n",
       "    </tr>\n",
       "    <tr>\n",
       "      <th>646</th>\n",
       "      <td>647.0</td>\n",
       "      <td>Indiana State University</td>\n",
       "      <td>Terre Haute</td>\n",
       "      <td>IN</td>\n",
       "      <td>Public</td>\n",
       "      <td>13626.0</td>\n",
       "      <td>13763.0</td>\n",
       "      <td>13012.0</td>\n",
       "      <td>9297.0</td>\n",
       "      <td>32938.0</td>\n",
       "      <td>85600.0</td>\n",
       "      <td>85.0</td>\n",
       "      <td>900.0</td>\n",
       "      <td>1110.0</td>\n",
       "      <td>17.0</td>\n",
       "      <td>23.0</td>\n",
       "      <td>www.indstate.edu</td>\n",
       "    </tr>\n",
       "    <tr>\n",
       "      <th>647</th>\n",
       "      <td>648.0</td>\n",
       "      <td>Emory &amp;amp; Henry College</td>\n",
       "      <td>Emory</td>\n",
       "      <td>VA</td>\n",
       "      <td>Private</td>\n",
       "      <td>1094.0</td>\n",
       "      <td>1226.0</td>\n",
       "      <td>19340.0</td>\n",
       "      <td>27155.0</td>\n",
       "      <td>48100.0</td>\n",
       "      <td>70700.0</td>\n",
       "      <td>72.0</td>\n",
       "      <td>988.0</td>\n",
       "      <td>1170.0</td>\n",
       "      <td>19.0</td>\n",
       "      <td>25.0</td>\n",
       "      <td>www.ehc.edu</td>\n",
       "    </tr>\n",
       "    <tr>\n",
       "      <th>648</th>\n",
       "      <td>649.0</td>\n",
       "      <td>Wells College</td>\n",
       "      <td>Aurora</td>\n",
       "      <td>NY</td>\n",
       "      <td>Private</td>\n",
       "      <td>488.0</td>\n",
       "      <td>516.0</td>\n",
       "      <td>22828.0</td>\n",
       "      <td>30207.0</td>\n",
       "      <td>55180.0</td>\n",
       "      <td>NaN</td>\n",
       "      <td>80.0</td>\n",
       "      <td>NaN</td>\n",
       "      <td>NaN</td>\n",
       "      <td>NaN</td>\n",
       "      <td>NaN</td>\n",
       "      <td>www.wells.edu</td>\n",
       "    </tr>\n",
       "    <tr>\n",
       "      <th>649</th>\n",
       "      <td>650.0</td>\n",
       "      <td>Catawba College</td>\n",
       "      <td>Salisbury</td>\n",
       "      <td>NC</td>\n",
       "      <td>Private</td>\n",
       "      <td>1336.0</td>\n",
       "      <td>1463.0</td>\n",
       "      <td>19807.0</td>\n",
       "      <td>23662.0</td>\n",
       "      <td>44921.0</td>\n",
       "      <td>78100.0</td>\n",
       "      <td>42.0</td>\n",
       "      <td>930.0</td>\n",
       "      <td>1100.0</td>\n",
       "      <td>18.0</td>\n",
       "      <td>23.0</td>\n",
       "      <td>www.catawba.edu</td>\n",
       "    </tr>\n",
       "  </tbody>\n",
       "</table>\n",
       "</div>"
      ],
      "text/plain": [
       "      Rank                         Name         City State Public/Private  \\\n",
       "645  646.0  New Mexico State University   Las Cruces    NM         Public   \n",
       "646  647.0     Indiana State University  Terre Haute    IN         Public   \n",
       "647  648.0    Emory &amp; Henry College        Emory    VA        Private   \n",
       "648  649.0                Wells College       Aurora    NY        Private   \n",
       "649  650.0              Catawba College    Salisbury    NC        Private   \n",
       "\n",
       "     Undergraduate Population  Student Population  Net Price  \\\n",
       "645                   13379.0             14432.0     8625.0   \n",
       "646                   13626.0             13763.0    13012.0   \n",
       "647                    1094.0              1226.0    19340.0   \n",
       "648                     488.0               516.0    22828.0   \n",
       "649                    1336.0              1463.0    19807.0   \n",
       "\n",
       "     Average Grant Aid  Total Annual Cost  Alumni Salary  Acceptance Rate  \\\n",
       "645             9582.0            34720.0        96700.0             64.0   \n",
       "646             9297.0            32938.0        85600.0             85.0   \n",
       "647            27155.0            48100.0        70700.0             72.0   \n",
       "648            30207.0            55180.0            NaN             80.0   \n",
       "649            23662.0            44921.0        78100.0             42.0   \n",
       "\n",
       "     SAT Lower  SAT Upper  ACT Lower  ACT Upper           Website  \n",
       "645      910.0     1160.0       18.0       23.0      www.nmsu.edu  \n",
       "646      900.0     1110.0       17.0       23.0  www.indstate.edu  \n",
       "647      988.0     1170.0       19.0       25.0       www.ehc.edu  \n",
       "648        NaN        NaN        NaN        NaN     www.wells.edu  \n",
       "649      930.0     1100.0       18.0       23.0   www.catawba.edu  "
      ]
     },
     "execution_count": 5,
     "metadata": {},
     "output_type": "execute_result"
    }
   ],
   "source": [
    "college.tail()"
   ]
  },
  {
   "cell_type": "code",
   "execution_count": 6,
   "id": "peripheral-secret",
   "metadata": {
    "execution": {
     "iopub.execute_input": "2021-04-04T19:08:19.302411Z",
     "iopub.status.busy": "2021-04-04T19:08:19.301749Z",
     "iopub.status.idle": "2021-04-04T19:08:19.317549Z",
     "shell.execute_reply": "2021-04-04T19:08:19.318238Z"
    },
    "papermill": {
     "duration": 0.052396,
     "end_time": "2021-04-04T19:08:19.318419",
     "exception": false,
     "start_time": "2021-04-04T19:08:19.266023",
     "status": "completed"
    },
    "tags": []
   },
   "outputs": [
    {
     "data": {
      "text/plain": [
       "Rank                        650\n",
       "Name                        650\n",
       "City                        469\n",
       "State                        51\n",
       "Public/Private                2\n",
       "Undergraduate Population    623\n",
       "Student Population          639\n",
       "Net Price                   638\n",
       "Average Grant Aid           639\n",
       "Total Annual Cost           644\n",
       "Alumni Salary               354\n",
       "Acceptance Rate              93\n",
       "SAT Lower                    97\n",
       "SAT Upper                    90\n",
       "ACT Lower                    20\n",
       "ACT Upper                    16\n",
       "Website                     645\n",
       "dtype: int64"
      ]
     },
     "execution_count": 6,
     "metadata": {},
     "output_type": "execute_result"
    }
   ],
   "source": [
    "college.nunique()"
   ]
  },
  {
   "cell_type": "markdown",
   "id": "regular-recognition",
   "metadata": {
    "papermill": {
     "duration": 0.021703,
     "end_time": "2021-04-04T19:08:19.362240",
     "exception": false,
     "start_time": "2021-04-04T19:08:19.340537",
     "status": "completed"
    },
    "tags": []
   },
   "source": [
    "**2. Cleaning the data**"
   ]
  },
  {
   "cell_type": "markdown",
   "id": "conservative-damage",
   "metadata": {
    "papermill": {
     "duration": 0.020956,
     "end_time": "2021-04-04T19:08:19.408607",
     "exception": false,
     "start_time": "2021-04-04T19:08:19.387651",
     "status": "completed"
    },
    "tags": []
   },
   "source": [
    "Removing columns we will not focus on and finding null values"
   ]
  },
  {
   "cell_type": "code",
   "execution_count": 7,
   "id": "national-sentence",
   "metadata": {
    "execution": {
     "iopub.execute_input": "2021-04-04T19:08:19.454902Z",
     "iopub.status.busy": "2021-04-04T19:08:19.454145Z",
     "iopub.status.idle": "2021-04-04T19:08:19.466391Z",
     "shell.execute_reply": "2021-04-04T19:08:19.465875Z"
    },
    "papermill": {
     "duration": 0.036695,
     "end_time": "2021-04-04T19:08:19.466536",
     "exception": false,
     "start_time": "2021-04-04T19:08:19.429841",
     "status": "completed"
    },
    "tags": []
   },
   "outputs": [
    {
     "data": {
      "text/plain": [
       "Rank                         0\n",
       "Name                         0\n",
       "City                         3\n",
       "State                        0\n",
       "Public/Private               0\n",
       "Undergraduate Population     0\n",
       "Student Population           0\n",
       "Net Price                    2\n",
       "Average Grant Aid            4\n",
       "Total Annual Cost            0\n",
       "Alumni Salary               15\n",
       "Acceptance Rate              2\n",
       "SAT Lower                   99\n",
       "SAT Upper                   99\n",
       "ACT Lower                   97\n",
       "ACT Upper                   97\n",
       "Website                      5\n",
       "dtype: int64"
      ]
     },
     "execution_count": 7,
     "metadata": {},
     "output_type": "execute_result"
    }
   ],
   "source": [
    "college.isnull().sum()"
   ]
  },
  {
   "cell_type": "markdown",
   "id": "compact-promise",
   "metadata": {
    "papermill": {
     "duration": 0.0291,
     "end_time": "2021-04-04T19:08:19.522884",
     "exception": false,
     "start_time": "2021-04-04T19:08:19.493784",
     "status": "completed"
    },
    "tags": []
   },
   "source": [
    "Columns that are not relevant to this analysis: City, State, Alumni Salary, SAT & ACT scores. "
   ]
  },
  {
   "cell_type": "code",
   "execution_count": 8,
   "id": "adapted-mixture",
   "metadata": {
    "execution": {
     "iopub.execute_input": "2021-04-04T19:08:19.583765Z",
     "iopub.status.busy": "2021-04-04T19:08:19.579532Z",
     "iopub.status.idle": "2021-04-04T19:08:19.586368Z",
     "shell.execute_reply": "2021-04-04T19:08:19.586932Z"
    },
    "papermill": {
     "duration": 0.032467,
     "end_time": "2021-04-04T19:08:19.587123",
     "exception": false,
     "start_time": "2021-04-04T19:08:19.554656",
     "status": "completed"
    },
    "tags": []
   },
   "outputs": [],
   "source": [
    "college = college.drop(['City', 'State', 'Alumni Salary', 'SAT Lower', 'SAT Upper', 'ACT Lower', 'ACT Upper', 'Website'], axis = 1)"
   ]
  },
  {
   "cell_type": "code",
   "execution_count": 9,
   "id": "sharing-rainbow",
   "metadata": {
    "execution": {
     "iopub.execute_input": "2021-04-04T19:08:19.635259Z",
     "iopub.status.busy": "2021-04-04T19:08:19.634584Z",
     "iopub.status.idle": "2021-04-04T19:08:19.654208Z",
     "shell.execute_reply": "2021-04-04T19:08:19.653674Z"
    },
    "papermill": {
     "duration": 0.044871,
     "end_time": "2021-04-04T19:08:19.654365",
     "exception": false,
     "start_time": "2021-04-04T19:08:19.609494",
     "status": "completed"
    },
    "tags": []
   },
   "outputs": [
    {
     "data": {
      "text/html": [
       "<div>\n",
       "<style scoped>\n",
       "    .dataframe tbody tr th:only-of-type {\n",
       "        vertical-align: middle;\n",
       "    }\n",
       "\n",
       "    .dataframe tbody tr th {\n",
       "        vertical-align: top;\n",
       "    }\n",
       "\n",
       "    .dataframe thead th {\n",
       "        text-align: right;\n",
       "    }\n",
       "</style>\n",
       "<table border=\"1\" class=\"dataframe\">\n",
       "  <thead>\n",
       "    <tr style=\"text-align: right;\">\n",
       "      <th></th>\n",
       "      <th>Rank</th>\n",
       "      <th>Name</th>\n",
       "      <th>Public/Private</th>\n",
       "      <th>Undergraduate Population</th>\n",
       "      <th>Student Population</th>\n",
       "      <th>Net Price</th>\n",
       "      <th>Average Grant Aid</th>\n",
       "      <th>Total Annual Cost</th>\n",
       "      <th>Acceptance Rate</th>\n",
       "    </tr>\n",
       "  </thead>\n",
       "  <tbody>\n",
       "    <tr>\n",
       "      <th>0</th>\n",
       "      <td>1.0</td>\n",
       "      <td>Harvard University</td>\n",
       "      <td>Private</td>\n",
       "      <td>13844.0</td>\n",
       "      <td>31120.0</td>\n",
       "      <td>14327.0</td>\n",
       "      <td>49870.0</td>\n",
       "      <td>69600.0</td>\n",
       "      <td>5.0</td>\n",
       "    </tr>\n",
       "    <tr>\n",
       "      <th>1</th>\n",
       "      <td>2.0</td>\n",
       "      <td>Stanford University</td>\n",
       "      <td>Private</td>\n",
       "      <td>8402.0</td>\n",
       "      <td>17534.0</td>\n",
       "      <td>13261.0</td>\n",
       "      <td>50134.0</td>\n",
       "      <td>69109.0</td>\n",
       "      <td>5.0</td>\n",
       "    </tr>\n",
       "    <tr>\n",
       "      <th>2</th>\n",
       "      <td>3.0</td>\n",
       "      <td>Yale University</td>\n",
       "      <td>Private</td>\n",
       "      <td>6483.0</td>\n",
       "      <td>12974.0</td>\n",
       "      <td>18627.0</td>\n",
       "      <td>50897.0</td>\n",
       "      <td>71290.0</td>\n",
       "      <td>7.0</td>\n",
       "    </tr>\n",
       "    <tr>\n",
       "      <th>3</th>\n",
       "      <td>4.0</td>\n",
       "      <td>Massachusetts Institute of Technology</td>\n",
       "      <td>Private</td>\n",
       "      <td>4680.0</td>\n",
       "      <td>11466.0</td>\n",
       "      <td>20771.0</td>\n",
       "      <td>43248.0</td>\n",
       "      <td>67430.0</td>\n",
       "      <td>7.0</td>\n",
       "    </tr>\n",
       "    <tr>\n",
       "      <th>4</th>\n",
       "      <td>5.0</td>\n",
       "      <td>Princeton University</td>\n",
       "      <td>Private</td>\n",
       "      <td>5659.0</td>\n",
       "      <td>8273.0</td>\n",
       "      <td>9327.0</td>\n",
       "      <td>48088.0</td>\n",
       "      <td>66150.0</td>\n",
       "      <td>6.0</td>\n",
       "    </tr>\n",
       "  </tbody>\n",
       "</table>\n",
       "</div>"
      ],
      "text/plain": [
       "   Rank                                   Name Public/Private  \\\n",
       "0   1.0                     Harvard University        Private   \n",
       "1   2.0                    Stanford University        Private   \n",
       "2   3.0                        Yale University        Private   \n",
       "3   4.0  Massachusetts Institute of Technology        Private   \n",
       "4   5.0                   Princeton University        Private   \n",
       "\n",
       "   Undergraduate Population  Student Population  Net Price  Average Grant Aid  \\\n",
       "0                   13844.0             31120.0    14327.0            49870.0   \n",
       "1                    8402.0             17534.0    13261.0            50134.0   \n",
       "2                    6483.0             12974.0    18627.0            50897.0   \n",
       "3                    4680.0             11466.0    20771.0            43248.0   \n",
       "4                    5659.0              8273.0     9327.0            48088.0   \n",
       "\n",
       "   Total Annual Cost  Acceptance Rate  \n",
       "0            69600.0              5.0  \n",
       "1            69109.0              5.0  \n",
       "2            71290.0              7.0  \n",
       "3            67430.0              7.0  \n",
       "4            66150.0              6.0  "
      ]
     },
     "execution_count": 9,
     "metadata": {},
     "output_type": "execute_result"
    }
   ],
   "source": [
    "college.head()"
   ]
  },
  {
   "cell_type": "code",
   "execution_count": 10,
   "id": "forward-mitchell",
   "metadata": {
    "execution": {
     "iopub.execute_input": "2021-04-04T19:08:19.709028Z",
     "iopub.status.busy": "2021-04-04T19:08:19.705776Z",
     "iopub.status.idle": "2021-04-04T19:08:19.713703Z",
     "shell.execute_reply": "2021-04-04T19:08:19.714286Z"
    },
    "papermill": {
     "duration": 0.037582,
     "end_time": "2021-04-04T19:08:19.714461",
     "exception": false,
     "start_time": "2021-04-04T19:08:19.676879",
     "status": "completed"
    },
    "tags": []
   },
   "outputs": [
    {
     "data": {
      "text/plain": [
       "Rank                        0\n",
       "Name                        0\n",
       "Public/Private              0\n",
       "Undergraduate Population    0\n",
       "Student Population          0\n",
       "Net Price                   2\n",
       "Average Grant Aid           4\n",
       "Total Annual Cost           0\n",
       "Acceptance Rate             2\n",
       "dtype: int64"
      ]
     },
     "execution_count": 10,
     "metadata": {},
     "output_type": "execute_result"
    }
   ],
   "source": [
    "college.isnull().sum()"
   ]
  },
  {
   "cell_type": "markdown",
   "id": "understood-proceeding",
   "metadata": {
    "papermill": {
     "duration": 0.023877,
     "end_time": "2021-04-04T19:08:19.761824",
     "exception": false,
     "start_time": "2021-04-04T19:08:19.737947",
     "status": "completed"
    },
    "tags": []
   },
   "source": [
    "Now we are left with the columns we will analyze"
   ]
  },
  {
   "cell_type": "markdown",
   "id": "welsh-filling",
   "metadata": {
    "papermill": {
     "duration": 0.023789,
     "end_time": "2021-04-04T19:08:19.810043",
     "exception": false,
     "start_time": "2021-04-04T19:08:19.786254",
     "status": "completed"
    },
    "tags": []
   },
   "source": [
    "**3. Analysis**"
   ]
  },
  {
   "cell_type": "markdown",
   "id": "turned-dance",
   "metadata": {
    "papermill": {
     "duration": 0.022913,
     "end_time": "2021-04-04T19:08:19.856242",
     "exception": false,
     "start_time": "2021-04-04T19:08:19.833329",
     "status": "completed"
    },
    "tags": []
   },
   "source": [
    "**3.1** What can we find between the relationship of the Rank and Student Population within these colleges"
   ]
  },
  {
   "cell_type": "code",
   "execution_count": 11,
   "id": "sorted-publisher",
   "metadata": {
    "execution": {
     "iopub.execute_input": "2021-04-04T19:08:19.934105Z",
     "iopub.status.busy": "2021-04-04T19:08:19.911343Z",
     "iopub.status.idle": "2021-04-04T19:08:20.636549Z",
     "shell.execute_reply": "2021-04-04T19:08:20.637045Z"
    },
    "papermill": {
     "duration": 0.757801,
     "end_time": "2021-04-04T19:08:20.637226",
     "exception": false,
     "start_time": "2021-04-04T19:08:19.879425",
     "status": "completed"
    },
    "tags": []
   },
   "outputs": [
    {
     "data": {
      "text/plain": [
       "<seaborn.axisgrid.FacetGrid at 0x7f8d0b979590>"
      ]
     },
     "execution_count": 11,
     "metadata": {},
     "output_type": "execute_result"
    },
    {
     "data": {
      "image/png": "[encoded data removed]",
      "text/plain": [
       "<Figure size 436x360 with 1 Axes>"
      ]
     },
     "metadata": {
      "needs_background": "light"
     },
     "output_type": "display_data"
    }
   ],
   "source": [
    "sns.lmplot(x=\"Rank\", y=\"Student Population\", hue=\"Public/Private\",\n",
    "             data=college)"
   ]
  },
  {
   "cell_type": "markdown",
   "id": "serious-worker",
   "metadata": {
    "papermill": {
     "duration": 0.025277,
     "end_time": "2021-04-04T19:08:20.688228",
     "exception": false,
     "start_time": "2021-04-04T19:08:20.662951",
     "status": "completed"
    },
    "tags": []
   },
   "source": [
    "Some information we can gather from this graph:\n",
    "* The lower the ranking, the lower the Student Population\n",
    "* Higher ranked colleges have higher Student Populations\n",
    "* Overall, Public colleges have higher Student Populations"
   ]
  },
  {
   "cell_type": "markdown",
   "id": "chief-hundred",
   "metadata": {
    "papermill": {
     "duration": 0.025033,
     "end_time": "2021-04-04T19:08:20.738457",
     "exception": false,
     "start_time": "2021-04-04T19:08:20.713424",
     "status": "completed"
    },
    "tags": []
   },
   "source": [
    "**3.2** How does a college's Rank and Acceptance Rate relate?"
   ]
  },
  {
   "cell_type": "code",
   "execution_count": 12,
   "id": "normal-oregon",
   "metadata": {
    "execution": {
     "iopub.execute_input": "2021-04-04T19:08:20.792855Z",
     "iopub.status.busy": "2021-04-04T19:08:20.791884Z",
     "iopub.status.idle": "2021-04-04T19:08:21.055738Z",
     "shell.execute_reply": "2021-04-04T19:08:21.056260Z"
    },
    "papermill": {
     "duration": 0.29269,
     "end_time": "2021-04-04T19:08:21.056458",
     "exception": false,
     "start_time": "2021-04-04T19:08:20.763768",
     "status": "completed"
    },
    "tags": []
   },
   "outputs": [
    {
     "data": {
      "text/plain": [
       "<AxesSubplot:xlabel='Rank', ylabel='Acceptance Rate'>"
      ]
     },
     "execution_count": 12,
     "metadata": {},
     "output_type": "execute_result"
    },
    {
     "data": {
      "image/png": "[encoded data removed]",
      "text/plain": [
       "<Figure size 432x288 with 1 Axes>"
      ]
     },
     "metadata": {
      "needs_background": "light"
     },
     "output_type": "display_data"
    }
   ],
   "source": [
    "sns.lineplot(x=\"Rank\", y=\"Acceptance Rate\",\n",
    "             hue=\"Public/Private\", \n",
    "             data=college)"
   ]
  },
  {
   "cell_type": "markdown",
   "id": "dental-college",
   "metadata": {
    "papermill": {
     "duration": 0.02711,
     "end_time": "2021-04-04T19:08:21.111445",
     "exception": false,
     "start_time": "2021-04-04T19:08:21.084335",
     "status": "completed"
    },
    "tags": []
   },
   "source": [
    "This shows that colleges that are ranked lower have higher acceptance rates & we can see how that differs between Private vs. Public colleges. "
   ]
  },
  {
   "cell_type": "markdown",
   "id": "equivalent-candidate",
   "metadata": {
    "papermill": {
     "duration": 0.029345,
     "end_time": "2021-04-04T19:08:21.168263",
     "exception": false,
     "start_time": "2021-04-04T19:08:21.138918",
     "status": "completed"
    },
    "tags": []
   },
   "source": [
    "**3.3** What relationship can we find between Rank and Cost?"
   ]
  },
  {
   "cell_type": "code",
   "execution_count": 13,
   "id": "coordinated-foster",
   "metadata": {
    "execution": {
     "iopub.execute_input": "2021-04-04T19:08:21.227053Z",
     "iopub.status.busy": "2021-04-04T19:08:21.226356Z",
     "iopub.status.idle": "2021-04-04T19:08:21.906538Z",
     "shell.execute_reply": "2021-04-04T19:08:21.905896Z"
    },
    "papermill": {
     "duration": 0.710549,
     "end_time": "2021-04-04T19:08:21.906675",
     "exception": false,
     "start_time": "2021-04-04T19:08:21.196126",
     "status": "completed"
    },
    "tags": []
   },
   "outputs": [
    {
     "data": {
      "text/plain": [
       "<seaborn.axisgrid.FacetGrid at 0x7f8d037a21d0>"
      ]
     },
     "execution_count": 13,
     "metadata": {},
     "output_type": "execute_result"
    },
    {
     "data": {
      "image/png": "[encoded data removed]",
      "text/plain": [
       "<Figure size 436x360 with 1 Axes>"
      ]
     },
     "metadata": {
      "needs_background": "light"
     },
     "output_type": "display_data"
    }
   ],
   "source": [
    "sns.lmplot(y='Total Annual Cost', x='Rank', hue=\"Public/Private\", data=college)"
   ]
  },
  {
   "cell_type": "markdown",
   "id": "failing-gabriel",
   "metadata": {
    "papermill": {
     "duration": 0.029723,
     "end_time": "2021-04-04T19:08:21.967297",
     "exception": false,
     "start_time": "2021-04-04T19:08:21.937574",
     "status": "completed"
    },
    "tags": []
   },
   "source": [
    "Overall, we notice that higher ranked colleges have higher Total Annual Cost, and there is a decrease in cost as our x-value goes further to the right (as the college's rank becomes lower)."
   ]
  },
  {
   "cell_type": "markdown",
   "id": "retained-delay",
   "metadata": {
    "papermill": {
     "duration": 0.02959,
     "end_time": "2021-04-04T19:08:22.026896",
     "exception": false,
     "start_time": "2021-04-04T19:08:21.997306",
     "status": "completed"
    },
    "tags": []
   },
   "source": [
    "**3.4** How do Total Annual Cost and Average Grant Aid relate?"
   ]
  },
  {
   "cell_type": "code",
   "execution_count": 14,
   "id": "worldwide-flexibility",
   "metadata": {
    "execution": {
     "iopub.execute_input": "2021-04-04T19:08:22.125317Z",
     "iopub.status.busy": "2021-04-04T19:08:22.115598Z",
     "iopub.status.idle": "2021-04-04T19:08:22.542219Z",
     "shell.execute_reply": "2021-04-04T19:08:22.541564Z"
    },
    "papermill": {
     "duration": 0.485718,
     "end_time": "2021-04-04T19:08:22.542577",
     "exception": false,
     "start_time": "2021-04-04T19:08:22.056859",
     "status": "completed"
    },
    "tags": []
   },
   "outputs": [
    {
     "data": {
      "text/plain": [
       "<seaborn.axisgrid.FacetGrid at 0x7f8d013ec610>"
      ]
     },
     "execution_count": 14,
     "metadata": {},
     "output_type": "execute_result"
    },
    {
     "data": {
      "image/png": "[encoded data removed]",
      "text/plain": [
       "<Figure size 360x360 with 1 Axes>"
      ]
     },
     "metadata": {
      "needs_background": "light"
     },
     "output_type": "display_data"
    }
   ],
   "source": [
    "sns.lmplot(x='Total Annual Cost', y='Average Grant Aid', data=college)"
   ]
  },
  {
   "cell_type": "markdown",
   "id": "billion-patio",
   "metadata": {
    "papermill": {
     "duration": 0.032177,
     "end_time": "2021-04-04T19:08:22.607051",
     "exception": false,
     "start_time": "2021-04-04T19:08:22.574874",
     "status": "completed"
    },
    "tags": []
   },
   "source": [
    "From the scatterplot, we can conclude that colleges with a higher Total Annual Cost have more Average Grant Aid."
   ]
  },
  {
   "cell_type": "markdown",
   "id": "adjacent-sunday",
   "metadata": {
    "papermill": {
     "duration": 0.031508,
     "end_time": "2021-04-04T19:08:22.670409",
     "exception": false,
     "start_time": "2021-04-04T19:08:22.638901",
     "status": "completed"
    },
    "tags": []
   },
   "source": [
    "**4. Conclusion**"
   ]
  },
  {
   "cell_type": "markdown",
   "id": "colored-venice",
   "metadata": {
    "papermill": {
     "duration": 0.032595,
     "end_time": "2021-04-04T19:08:22.734867",
     "exception": false,
     "start_time": "2021-04-04T19:08:22.702272",
     "status": "completed"
    },
    "tags": []
   },
   "source": [
    "We've analyzed the relationship between different attributes in this dataset. \n",
    "We can come to a conclusion on how the rank of a college affects its student population, acceptance rate, cost and student aid. "
   ]
  }
 ],
 "metadata": {
  "kernelspec": {
   "display_name": "Python 3",
   "language": "python",
   "name": "python3"
  },
  "language_info": {
   "codemirror_mode": {
    "name": "ipython",
    "version": 3
   },
   "file_extension": ".py",
   "mimetype": "text/x-python",
   "name": "python",
   "nbconvert_exporter": "python",
   "pygments_lexer": "ipython3",
   "version": "3.7.9"
  },
  "papermill": {
   "default_parameters": {},
   "duration": 11.66801,
   "end_time": "2021-04-04T19:08:23.376681",
   "environment_variables": {},
   "exception": null,
   "input_path": "__notebook__.ipynb",
   "output_path": "__notebook__.ipynb",
   "parameters": {},
   "start_time": "2021-04-04T19:08:11.708671",
   "version": "2.3.2"
  }
 },
 "nbformat": 4,
 "nbformat_minor": 5
}
